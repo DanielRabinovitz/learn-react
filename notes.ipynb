{
 "cells": [
  {
   "cell_type": "markdown",
   "metadata": {},
   "source": [
    "**Notes 2/12/2024**"
   ]
  },
  {
   "cell_type": "markdown",
   "metadata": {},
   "source": [
    "lists in react:\n",
    "\n",
    "This is for <ul> and <li> elements:\n",
    "    -Have an array, turn each item in the earry to a JSX element\n",
    "    -You need to add a unique key for every item in the list so that React can\n",
    "    tell the <li> eles apart\n",
    "\n",
    "Key rules for React lists:\n",
    "    -Part of the dataset\n",
    "    -Unique\n",
    "    -Should not be an index of the item in the array\n",
    "    -Should not be a random number (because these are expensive computationally)\n",
    "\n",
    "Props are handed into a component like this:\n",
    "\n",
    "//children is special and given by the tag contents\n",
    "function Component({prop1, prop2, children}){\n",
    "    return ...\n",
    "}\n",
    "\n",
    "<Component prop1=\"x\" prop2=\"y\">\n",
    "Content becomes the child\n",
    "<Component/>\n"
   ]
  },
  {
   "cell_type": "markdown",
   "metadata": {},
   "source": [
    "React States\n",
    "\n",
    "Components in react have states to keep track of wtf is going on with dynamic interactive objects.\n",
    "\n",
    "States are what let you store a variable inside of a component. E.g. lets say you have a list of images and want to be able to display only one at a time and click buttons to go forwards or backwards. To keep track of the index, you need states. This is basically just having dynamic variables inside of a component.\n",
    "\n",
    "This is what React hooks do."
   ]
  },
  {
   "cell_type": "markdown",
   "metadata": {},
   "source": [
    "React Hooks:\n",
    "\n",
    "A react hook is basically an API call that lets you access data and functions inside of a specific react component. You can define the hooks as you go, letting you customize your components as you go. The structure of a hook is to define a variable name that is used as a getter, and the name of a function to set that variable to something else.\n",
    "\n",
    "To define a hook:\n",
    "const [varname, varsetter] = useState(0);\n",
    "\n",
    "Then later you can define a function like this:\n",
    "\n",
    "updateState(){\n",
    "    varsetter(varname + 1) //or some other transformation of the variable\n",
    "} "
   ]
  },
  {
   "cell_type": "markdown",
   "metadata": {},
   "source": [
    "States can hold objects of varying complexity. If you need properties to be used by multiple componenets, this is very important! It's also easier to have an object with many parts than it is to define a million getters/setters for a component."
   ]
  }
 ],
 "metadata": {
  "language_info": {
   "name": "python"
  }
 },
 "nbformat": 4,
 "nbformat_minor": 2
}
