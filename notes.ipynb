{
 "cells": [
  {
   "cell_type": "markdown",
   "metadata": {},
   "source": [
    "If the state is setting an array we should not touch the original array. Use something like spread syntax to make a copy to alter, then set the state to equal the new array.\n",
    "\n",
    "Shallow copies can make states very messy, use deep copies when possible. Avoid nested arrays in your states to make deep copying easier!\n",
    "\n",
    "Deep copying is an expensive operation, and states should not have large arrays."
   ]
  }
 ],
 "metadata": {
  "language_info": {
   "name": "python"
  }
 },
 "nbformat": 4,
 "nbformat_minor": 2
}
