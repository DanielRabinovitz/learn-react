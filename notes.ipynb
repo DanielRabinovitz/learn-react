{
 "cells": [
  {
   "cell_type": "markdown",
   "metadata": {},
   "source": [
    "states day 2\n",
    "\n",
    "Each state update rerenders the component.\n",
    "\n",
    "So if you do something like this:\n",
    "\n",
    "return{\n",
    "    setNumber(number + 1);\n",
    "    setNumber(number + 2);\n",
    "}\n",
    "\n",
    "We'd expect this to add 3 to number, but instead it only adds one. Each rerender reloads the entire component, interupting future state updates. You should usually only call a state update 1 time in each function that updates a component.\n",
    "\n",
    "React also will not update the state again until the current render is done."
   ]
  },
  {
   "cell_type": "markdown",
   "metadata": {},
   "source": [
    "What if we want to update multiple properties at the same time? This is not common (because debugging icky) but it's called batching updates.\n",
    "\n",
    "If we do a setter using an arrow function:\n",
    "\n",
    "E.g.\n",
    "    setNumber(n => n+1) //que this one\n",
    "    setNumber(n => n+2) //now que this one\n",
    "\n",
    "The two sets get queued up. An arrow function gets passed in context from somewhere else, in this it's case the variable tied to setNumber. When you use an arrow function it waits to update things until the end."
   ]
  },
  {
   "cell_type": "markdown",
   "metadata": {},
   "source": [
    "React best practice for updating state:\n",
    "\n",
    "1) Make a copy of current object\n",
    "2) Change the copy\n",
    "3) Pass the altered copy into set()"
   ]
  }
 ],
 "metadata": {
  "language_info": {
   "name": "python"
  }
 },
 "nbformat": 4,
 "nbformat_minor": 2
}
