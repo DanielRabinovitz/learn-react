{
 "cells": [
  {
   "cell_type": "markdown",
   "metadata": {},
   "source": [
    "React general idea:\n",
    "\n",
    "In the front end, a parent and its children can be thought of as a component and a bunch of subcomponents.\n",
    "\n",
    "We can easily reuse and copy paste components like lego blocks to make new and interesting structures of higher complexity without that much additional effort."
   ]
  },
  {
   "cell_type": "markdown",
   "metadata": {},
   "source": [
    "The basic gist of the syntax is:\n",
    "\n",
    "define a function that returns an html element:\n",
    "\n",
    "function Profile(){\n",
    "    return (<img ... />)\n",
    "}\n",
    "\n",
    "Then we can use the function name somewhere else as an HTML tag:\n",
    "\n",
    "function Home(){\n",
    "    return(\n",
    "        <div>\n",
    "            <Profile />\n",
    "        </div>\n",
    "    )\n",
    "}\n"
   ]
  },
  {
   "cell_type": "markdown",
   "metadata": {},
   "source": [
    "JSX is how you write your HTML tags embedded in JS.\n",
    "\n",
    "Rules:\n",
    "    -Returns a single Root element (usually a div)\n",
    "    -Tags must be closed explicitly\n",
    "    -Attribute names are in camelCase\n",
    "    -Attributs can be 'single quotes', \"double quotes\", or {Javascript values}"
   ]
  },
  {
   "cell_type": "markdown",
   "metadata": {},
   "source": [
    "Props:\n",
    "input parameters into the function that creates the HTML element.\n",
    "This is how you make your components more customizeable!\n"
   ]
  },
  {
   "cell_type": "markdown",
   "metadata": {},
   "source": [
    "You can also pass in a \"children\" prop (special keyword) to make container elements.\n",
    "Children is a component in and of itself."
   ]
  },
  {
   "cell_type": "markdown",
   "metadata": {},
   "source": [
    "You can use conditionals to define what renders and what doesn't in the function that defines the component.\n",
    "\n",
    "E.g.\n",
    "\n",
    "function Item({name, isPacked}){\n",
    "    \n",
    "    //if isPacked, apply a strikethrough to {name}\n",
    "    if(isPacked) {\n",
    "        return <li className=\"item\"> <del>{name}</del> </li>;\n",
    "    }\n",
    "    //else leave {name} with a raw format\n",
    "    else{\n",
    "        return <li className=\"item\"> {name} </li>;\n",
    "    }\n",
    "}\n",
    "\n",
    "\n"
   ]
  }
 ],
 "metadata": {
  "language_info": {
   "name": "python"
  }
 },
 "nbformat": 4,
 "nbformat_minor": 2
}
